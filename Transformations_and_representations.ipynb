{
  "nbformat": 4,
  "nbformat_minor": 0,
  "metadata": {
    "colab": {
      "provenance": []
    },
    "kernelspec": {
      "name": "python3",
      "display_name": "Python 3"
    },
    "language_info": {
      "name": "python"
    }
  },
  "cells": [
    {
      "cell_type": "code",
      "execution_count": 18,
      "metadata": {
        "id": "O62ZRl2hY_nl"
      },
      "outputs": [],
      "source": [
        "# !git clone https://github.com/kanji95/Mobile-Robotics-CS7.503.git"
      ]
    },
    {
      "cell_type": "code",
      "source": [
        "cd Mobile-Robotics-CS7.503/"
      ],
      "metadata": {
        "colab": {
          "base_uri": "https://localhost:8080/"
        },
        "id": "QKLJQ75bZOOu",
        "outputId": "f3343445-0051-4117-8fd1-6bc722f5bc5c"
      },
      "execution_count": 2,
      "outputs": [
        {
          "output_type": "stream",
          "name": "stdout",
          "text": [
            "/content/Mobile-Robotics-CS7.503\n"
          ]
        }
      ]
    },
    {
      "cell_type": "code",
      "source": [
        "import time\n",
        "from pprint import pprint\n",
        "import open3d as o3d\n",
        "\n",
        "import numpy as np\n",
        "from scipy.optimize import fsolve\n",
        "from scipy.spatial.transform import Rotation\n",
        "from transforms3d.euler import euler2mat, mat2euler\n",
        "\n",
        "import torch\n",
        "# import pytorch3d.transforms as transforms\n",
        "\n",
        "np.set_printoptions(precision=3, suppress=True)"
      ],
      "metadata": {
        "id": "HnAAFDIYZbqo"
      },
      "execution_count": 3,
      "outputs": []
    },
    {
      "cell_type": "code",
      "source": [
        "# !pip install transforms3d"
      ],
      "metadata": {
        "id": "fgLRhWBPhpUp"
      },
      "execution_count": 2,
      "outputs": []
    },
    {
      "cell_type": "code",
      "source": [
        "# !pip install open3d"
      ],
      "metadata": {
        "id": "8KgkJZjOhYvQ"
      },
      "execution_count": 1,
      "outputs": []
    },
    {
      "cell_type": "markdown",
      "source": [
        "**1. Getting started with Open3D**\n",
        "\n",
        "Open3D is an open-source library that deals with 3D data, such as point clouds, mesh. We'll be using Open3D frequently as we work with point clouds. Let's start with something simple:"
      ],
      "metadata": {
        "id": "0pWePBc8cevi"
      }
    },
    {
      "cell_type": "code",
      "source": [
        "# Reading Data\n",
        "mesh = o3d.io.read_triangle_mesh('/content/Mobile-Robotics-CS7.503/Assignment1/data/bunny.ply')\n",
        "o3d.visualization.draw([mesh])\n",
        "\n",
        "## Convert Mesh to Point Cloud & Change Color\n",
        "point_cloud = mesh.sample_points_poisson_disk(5000)\n",
        "point_cloud.paint_uniform_color([1, 0.5, 0.])\n",
        "o3d.visualization.draw([point_cloud])\n",
        "\n",
        "## Show Axis\n",
        "mesh_frame = o3d.geometry.TriangleMesh.create_coordinate_frame(size=0.03, origin=np.array([0., 0., 0.]))\n",
        "o3d.visualization.draw([point_cloud, mesh_frame],\n",
        "                       lookat=np.array([[.0], [.1], [.0]], dtype=np.float64),\n",
        "                       eye=np.array([[0.0], [0.0], [-0.4]], dtype=np.float64),\n",
        "                       up=np.array([[0.0], [0.5], [0.0]], dtype=np.float64),\n",
        "                      )\n",
        "\n",
        "## Scale Point Cloud by 0.5\n",
        "point_cloud.scale(scale=0.5, center=np.array([[.0], [.0], [.0]], dtype=np.float64))\n",
        "o3d.visualization.draw([point_cloud, mesh_frame],\n",
        "                       lookat=np.array([[.0], [.1], [.0]], dtype=np.float64),\n",
        "                       eye=np.array([[0.0], [0.0], [-0.4]], dtype=np.float64),\n",
        "                       up=np.array([[0.0], [0.5], [0.0]], dtype=np.float64),\n",
        "                      )\n",
        "\n",
        "## Transform Point Cloud (Rotate about Y axis, translate to [0.2, 0, 0])\n",
        "point_cloud.transform(np.array([[0.707, 0.0, 0.707, 0.2],\n",
        "                                [0.0, 1.0, 0.0, 0.0],\n",
        "                                [-0.707, 0.0, 0.707, 0.0],\n",
        "                                [0.0, 0.0, 0.0, 1.0]], dtype=np.float64))\n",
        "o3d.visualization.draw([point_cloud, mesh_frame],\n",
        "                       lookat=np.array([[.0], [.1], [.0]], dtype=np.float64),\n",
        "                       eye=np.array([[0.0], [0.0], [-0.4]], dtype=np.float64),\n",
        "                       up=np.array([[0.0], [0.5], [0.0]], dtype=np.float64),\n",
        "                      )\n",
        "\n",
        "## Rotate Point Cloud (Rotate about Y axis)\n",
        "point_cloud.rotate(R=np.array([[0.707, 0.0, 0.707],\n",
        "                                [0.0, 1.0, 0.0],\n",
        "                                [-0.707, 0.0, 0.707]], dtype=np.float64))\n",
        "o3d.visualization.draw([point_cloud, mesh_frame],\n",
        "                       lookat=np.array([[.0], [.1], [.0]], dtype=np.float64),\n",
        "                       eye=np.array([[0.0], [0.0], [-0.4]], dtype=np.float64),\n",
        "                       up=np.array([[0.0], [0.5], [0.0]], dtype=np.float64),\n",
        "                      )\n",
        "\n",
        "## Save\n",
        "o3d.io.write_point_cloud('/content/Mobile-Robotics-CS7.503/Assignment1/data/bunny.pcd', point_cloud)"
      ],
      "metadata": {
        "id": "vrcyGROhcTY8"
      },
      "execution_count": null,
      "outputs": []
    },
    {
      "cell_type": "markdown",
      "source": [
        "**2. Transformations and representations**\n",
        "\n",
        "**a) Euler angles**\n",
        "\n",
        "2.a.1 Function that returns a rotation matrix given the angles alpha,beta and gamma in radians (X-Y-Z)"
      ],
      "metadata": {
        "id": "kGXKOloFc38_"
      }
    },
    {
      "cell_type": "code",
      "source": [
        "## Order can be reverse, Since X-Y-Z angles\n",
        "def get_rotation_matrix(alpha, beta, gamma):\n",
        "\n",
        "    r_alpha = np.matrix([[1.0, 0.0, 0.0],\n",
        "                        [0.0, np.cos(alpha), -np.sin(alpha)],\n",
        "                        [0.0, np.sin(alpha), np.cos(alpha)]], dtype=np.float64)\n",
        "    r_alpha = np.around(r_alpha, decimals=4)\n",
        "\n",
        "    r_beta = np.matrix([[np.cos(beta), 0.0, np.sin(beta)],\n",
        "                        [0.0, 1.0, 0.0],\n",
        "                        [-np.sin(beta), 0.0, np.cos(beta)]], dtype=np.float64)\n",
        "    r_beta = np.around(r_beta, decimals=4)\n",
        "\n",
        "    r_gamma = np.matrix([[np.cos(gamma), -np.sin(gamma), 0.0],\n",
        "                        [np.sin(gamma), np.cos(gamma), 0.0],\n",
        "                        [0.0, 0.0, 1.0]], dtype=np.float64)\n",
        "    r_gamma = np.around(r_gamma, decimals=3)\n",
        "\n",
        "    return r_alpha @ r_beta @ r_gamma\n",
        "\n",
        "R = get_rotation_matrix(0, 0, 0)\n",
        "print(R)"
      ],
      "metadata": {
        "colab": {
          "base_uri": "https://localhost:8080/"
        },
        "id": "M2qTqZBgcxxw",
        "outputId": "5d8ba423-0e3b-41da-f65c-972e4309c7fa"
      },
      "execution_count": 4,
      "outputs": [
        {
          "output_type": "stream",
          "name": "stdout",
          "text": [
            "[[1. 0. 0.]\n",
            " [0. 1. 0.]\n",
            " [0. 0. 1.]]\n"
          ]
        }
      ]
    },
    {
      "cell_type": "markdown",
      "source": [
        "2.a.2 Solve for angles using fsolve from scipy for three initializations of your choice and compare"
      ],
      "metadata": {
        "id": "1JAa1MWMdZnh"
      }
    },
    {
      "cell_type": "code",
      "source": [
        "M = np.array([[0.26200263, -0.19674724, 0.944799],\n",
        "              [0.21984631, 0.96542533, 0.14007684],\n",
        "              [-0.93969262, 0.17101007, 0.29619813]])\n",
        "\n",
        "N = np.array([[0., -0.173648178, 0.984807753],\n",
        "              [0., 0.984807753, 0.173648178],\n",
        "              [-1., 0., 0.]])"
      ],
      "metadata": {
        "id": "Ch4kwQUudUDg"
      },
      "execution_count": 5,
      "outputs": []
    },
    {
      "cell_type": "code",
      "source": [
        "def get_euler_from_rotation(x, R):\n",
        "    return [np.cos(x[0])*np.cos(x[1]) - R[2, 2], np.sin(x[1]) - R[0, 2], np.cos(x[1])*np.cos(x[2]) - R[0, 0]]"
      ],
      "metadata": {
        "id": "NJkBHM6kj__Q"
      },
      "execution_count": 8,
      "outputs": []
    },
    {
      "cell_type": "code",
      "source": [
        "## Verify (Closed Form)\n",
        "def rotationToEuler(R):\n",
        "    return [np.arctan2(-R[1, 2], R[2, 2]), np.arctan2(R[0, 2], np.sqrt(1 - R[0, 2]**2)), np.arctan2(-R[0, 1], R[0, 0])]\n",
        "\n",
        "print(f'Closed Form Euler Angles for matrix M: {rotationToEuler(M)}')\n",
        "print(f'Closed Form Euler Angles for matrix N: {rotationToEuler(N)}')"
      ],
      "metadata": {
        "colab": {
          "base_uri": "https://localhost:8080/"
        },
        "id": "kI4yIOpdde0_",
        "outputId": "220db6b1-e780-4aa9-f73a-624b064c244c"
      },
      "execution_count": 7,
      "outputs": [
        {
          "output_type": "stream",
          "name": "stdout",
          "text": [
            "Closed Form Euler Angles for matrix M: [-0.4417466208822325, 1.2369806006375788, 0.6440999603368792]\n",
            "Closed Form Euler Angles for matrix N: [-1.5707963267948966, 1.3962634015251603, 1.5707963267948966]\n"
          ]
        }
      ]
    },
    {
      "cell_type": "code",
      "source": [
        "x_M = [0.2, 0.1, np.pi/2]\n",
        "x_M = fsolve(get_euler_from_rotation, x_M, args=M)\n",
        "print(f\"Euler Angles for matrix M using fsolve: {x_M}\")"
      ],
      "metadata": {
        "colab": {
          "base_uri": "https://localhost:8080/"
        },
        "id": "dY3TBf-GdqoY",
        "outputId": "32c96bdf-e140-47f0-e39d-d26150c28156"
      },
      "execution_count": 9,
      "outputs": [
        {
          "output_type": "stream",
          "name": "stdout",
          "text": [
            "Euler Angles for matrix M using fsolve: [-0.442  1.237  0.644]\n"
          ]
        }
      ]
    },
    {
      "cell_type": "code",
      "source": [
        "x_N = [0.2, 0.1, np.pi/2]\n",
        "x_N = fsolve(get_euler_from_rotation, x_N, args=N)\n",
        "print(f\"Euler Angles for matrix N using fsolve: {x_N}\")"
      ],
      "metadata": {
        "colab": {
          "base_uri": "https://localhost:8080/"
        },
        "id": "90ls0UDpkVGp",
        "outputId": "85afc1eb-0671-48a8-9506-d1e82c77062a"
      },
      "execution_count": 10,
      "outputs": [
        {
          "output_type": "stream",
          "name": "stdout",
          "text": [
            "Euler Angles for matrix N using fsolve: [-1.571  1.396  1.571]\n"
          ]
        }
      ]
    },
    {
      "cell_type": "code",
      "source": [
        "## Verification\n",
        "R_M = get_rotation_matrix(*x_M)\n",
        "print(\"Reconstructed matrix M from predcited angles \\n\", R_M)\n",
        "\n",
        "R_N = get_rotation_matrix(*x_N)\n",
        "print(\"Reconstructed matrix N from predcited angles \\n\", R_N)"
      ],
      "metadata": {
        "colab": {
          "base_uri": "https://localhost:8080/"
        },
        "id": "mf8qy1CpdtnQ",
        "outputId": "4028b4a7-f040-40d6-a198-5bfc908a052e"
      },
      "execution_count": 11,
      "outputs": [
        {
          "output_type": "stream",
          "name": "stdout",
          "text": [
            "Reconstructed matrix M from predcited angles \n",
            " [[ 0.262 -0.197  0.945]\n",
            " [ 0.219  0.966  0.14 ]\n",
            " [-0.94   0.17   0.296]]\n",
            "Reconstructed matrix N from predcited angles \n",
            " [[ 0.    -0.174  0.985]\n",
            " [ 0.     0.985  0.174]\n",
            " [-1.     0.     0.   ]]\n"
          ]
        }
      ]
    },
    {
      "cell_type": "code",
      "source": [
        "## Verify (Closed Form)\n",
        "def rotationToEuler(R):\n",
        "    return [np.arctan2(-R[1, 2], R[2, 2]), np.arctan2(R[0, 2], np.sqrt(1 - R[0, 2]**2)), np.arctan2(-R[0, 1], R[0, 0])]\n",
        "\n",
        "print(f'Closed Form Euler Angles for matrix M: {rotationToEuler(M)}')\n",
        "print(f'Closed Form Euler Angles for matrix N: {rotationToEuler(N)}')"
      ],
      "metadata": {
        "colab": {
          "base_uri": "https://localhost:8080/"
        },
        "id": "JqXjc69kdybg",
        "outputId": "20759f11-4930-46a9-a169-d064e5787173"
      },
      "execution_count": 12,
      "outputs": [
        {
          "output_type": "stream",
          "name": "stdout",
          "text": [
            "Closed Form Euler Angles for matrix M: [-0.4417466208822325, 1.2369806006375788, 0.6440999603368792]\n",
            "Closed Form Euler Angles for matrix N: [-1.5707963267948966, 1.3962634015251603, 1.5707963267948966]\n"
          ]
        }
      ]
    },
    {
      "cell_type": "markdown",
      "source": [
        "2.a.3 What is a Gimbal lock?\n",
        "\n",
        "Gimbal lock occurs when two of the three axis of rotations become parallel to each other resulting in loss of one degree of freedom and restricting rotation to two dimensional space.\n",
        "\n",
        "2.a.4 Example of Gimbal lock and visualize the Gimbal lock on the given bunny point cloud"
      ],
      "metadata": {
        "id": "PUcTa6KZd2N3"
      }
    },
    {
      "cell_type": "code",
      "source": [
        "## Gimbals\n",
        "torus_x = o3d.geometry.TriangleMesh.create_torus(torus_radius=2.,tube_radius=0.1)\n",
        "torus_x.paint_uniform_color([1., 0., 0.])\n",
        "R = euler2mat(np.pi/2, 0., 0., 'sxyz')\n",
        "torus_x.rotate(R=R)\n",
        "\n",
        "torus_y = o3d.geometry.TriangleMesh.create_torus(torus_radius=1.5, tube_radius=0.1)\n",
        "torus_y.paint_uniform_color([0., 1., 0.])\n",
        "R = euler2mat(0., np.pi/2, 0., 'sxyz')\n",
        "torus_y.rotate(R=R)\n",
        "\n",
        "torus_z = o3d.geometry.TriangleMesh.create_torus(tube_radius=0.1)\n",
        "torus_z.paint_uniform_color([0., 0., 1.])\n",
        "R = euler2mat(0., 0., np.pi/2, 'sxyz')\n",
        "torus_z.rotate(R=R)\n",
        "\n",
        "## Gimbal Lock Animation\n",
        "point_cloud = o3d.io.read_point_cloud('/content/Mobile-Robotics-CS7.503/Assignment1/data/bunny.ply')\n",
        "point_cloud.scale(scale=20., center=np.array([[.0], [.0], [.0]], dtype=np.float64))\n",
        "point_cloud.translate(translation=np.array([0., 2., 0.]))\n",
        "\n",
        "vis = o3d.visualization.Visualizer()\n",
        "vis.create_window()\n",
        "\n",
        "vis.add_geometry(point_cloud)\n",
        "\n",
        "vis.add_geometry(torus_x)\n",
        "vis.add_geometry(torus_y)\n",
        "vis.add_geometry(torus_z)\n",
        "\n",
        "step = 10\n",
        "axes = [(\"y\", 90), (\"z\", 90), (\"x\", 90), (\"z\", 90), (\"x\", 90), (\"y\", 90)]\n",
        "for ax, degree in axes:\n",
        "    angle = 0\n",
        "    while angle < degree:\n",
        "        time.sleep(0.7)\n",
        "\n",
        "        if ax == \"x\":\n",
        "            R = get_rotation_matrix(np.radians(step), 0., 0.)\n",
        "            torus_x.rotate(R=R)\n",
        "            torus_y.rotate(R=R)\n",
        "            torus_z.rotate(R=R)\n",
        "            vis.update_geometry(torus_x)\n",
        "            vis.update_geometry(torus_y)\n",
        "            vis.update_geometry(torus_z)\n",
        "        elif ax == \"y\":\n",
        "            R = get_rotation_matrix(0., np.radians(step), 0.)\n",
        "            torus_y.rotate(R=R)\n",
        "            torus_z.rotate(R=R)\n",
        "            vis.update_geometry(torus_y)\n",
        "            vis.update_geometry(torus_z)\n",
        "        elif ax == \"z\":\n",
        "            R = get_rotation_matrix(0., 0., np.radians(step))\n",
        "            torus_z.rotate(R=R)\n",
        "            vis.update_geometry(torus_z)\n",
        "\n",
        "        point_cloud.rotate(R=R)\n",
        "\n",
        "        angle += step\n",
        "        vis.update_geometry(point_cloud)\n",
        "\n",
        "        vis.poll_events()\n",
        "        vis.update_renderer()\n",
        "\n",
        "vis.destroy_window()"
      ],
      "metadata": {
        "colab": {
          "base_uri": "https://localhost:8080/",
          "height": 435
        },
        "id": "pXH9PdIidzdP",
        "outputId": "1a5010ba-b45a-4847-be70-c2992884f807"
      },
      "execution_count": 16,
      "outputs": [
        {
          "output_type": "stream",
          "name": "stdout",
          "text": [
            "\u001b[1;33m[Open3D WARNING] GLFW Error: X11: The DISPLAY environment variable is missing\u001b[0;m\n",
            "\u001b[1;33m[Open3D WARNING] Failed to initialize GLFW\u001b[0;m\n",
            "\u001b[1;33m[Open3D WARNING] GLFW Error: The GLFW library is not initialized\u001b[0;m\n",
            "\u001b[1;33m[Open3D WARNING] GLFW Error: The GLFW library is not initialized\u001b[0;m\n",
            "\u001b[1;33m[Open3D WARNING] GLFW Error: The GLFW library is not initialized\u001b[0;m\n",
            "\u001b[1;33m[Open3D WARNING] GLFW Error: The GLFW library is not initialized\u001b[0;m\n",
            "\u001b[1;33m[Open3D WARNING] GLFW Error: The GLFW library is not initialized\u001b[0;m\n",
            "\u001b[1;33m[Open3D WARNING] GLFW Error: The GLFW library is not initialized\u001b[0;m\n",
            "\u001b[1;33m[Open3D WARNING] GLFW Error: The GLFW library is not initialized\u001b[0;m\n",
            "\u001b[1;33m[Open3D WARNING] GLFW Error: The GLFW library is not initialized\u001b[0;m\n",
            "\u001b[1;33m[Open3D WARNING] GLFW Error: The GLFW library is not initialized\u001b[0;m\n"
          ]
        },
        {
          "output_type": "error",
          "ename": "KeyboardInterrupt",
          "evalue": "ignored",
          "traceback": [
            "\u001b[0;31m---------------------------------------------------------------------------\u001b[0m",
            "\u001b[0;31mKeyboardInterrupt\u001b[0m                         Traceback (most recent call last)",
            "\u001b[0;32m<ipython-input-16-cb31041ddbf0>\u001b[0m in \u001b[0;36m<cell line: 33>\u001b[0;34m()\u001b[0m\n\u001b[1;32m     34\u001b[0m     \u001b[0mangle\u001b[0m \u001b[0;34m=\u001b[0m \u001b[0;36m0\u001b[0m\u001b[0;34m\u001b[0m\u001b[0;34m\u001b[0m\u001b[0m\n\u001b[1;32m     35\u001b[0m     \u001b[0;32mwhile\u001b[0m \u001b[0mangle\u001b[0m \u001b[0;34m<\u001b[0m \u001b[0mdegree\u001b[0m\u001b[0;34m:\u001b[0m\u001b[0;34m\u001b[0m\u001b[0;34m\u001b[0m\u001b[0m\n\u001b[0;32m---> 36\u001b[0;31m         \u001b[0mtime\u001b[0m\u001b[0;34m.\u001b[0m\u001b[0msleep\u001b[0m\u001b[0;34m(\u001b[0m\u001b[0;36m0.7\u001b[0m\u001b[0;34m)\u001b[0m\u001b[0;34m\u001b[0m\u001b[0;34m\u001b[0m\u001b[0m\n\u001b[0m\u001b[1;32m     37\u001b[0m \u001b[0;34m\u001b[0m\u001b[0m\n\u001b[1;32m     38\u001b[0m         \u001b[0;32mif\u001b[0m \u001b[0max\u001b[0m \u001b[0;34m==\u001b[0m \u001b[0;34m\"x\"\u001b[0m\u001b[0;34m:\u001b[0m\u001b[0;34m\u001b[0m\u001b[0;34m\u001b[0m\u001b[0m\n",
            "\u001b[0;31mKeyboardInterrupt\u001b[0m: "
          ]
        }
      ]
    },
    {
      "cell_type": "markdown",
      "source": [
        "b) Quaternions\n",
        "What makes Quaternions popular in graphics?\n",
        "Convert a rotation matrix to quaternion and vice versa. Do not use inbuilt libraries for this question.\n",
        "Perform matrix multiplication of two R-3*3\n",
        " rotation matrices and perform the same transformation in the quaternion space. Verify if the final transformation obtained in both the cases are the same.\n",
        "Try to interpolate any 3D model (cube / bunny / not sphere obviously!!) between two rotation matrices and visualize!\n",
        "The above questions require you to code your own functions and only verify using inbuilt functions.\n",
        "\n",
        "2.b.1 What makes Quaternions popular in graphics?\n",
        "\n",
        "Quaternions allow rotations about multiple axis simultaenously and hence do not suffer from gumbel lock that occurs during sequential rotations about individual axes. Additionally, Quaternions consume less memory and are faster to compute than rotation matrices. Interpolating between rotations is easier to express in terms of quaternion compared to 3x3 rotation matrices. Quaternion are naturally preferred language to preserve angle when a curved 3D texture or surface is mapped to a image i.e; when we try to flatten the curved surface the angles seen in the 3D surface needs to be preserved.\n",
        "\n",
        "2.b.2 Convert a rotation matrix to quaternion and vice versa."
      ],
      "metadata": {
        "id": "jEQDGDoPeBfA"
      }
    },
    {
      "cell_type": "code",
      "source": [
        "def quaternion_to_rotation(q):\n",
        "    return np.array([[q[0]**2 + q[1]**2 - q[2]**2 - q[3]**2, 2*(q[1]*q[2] - q[0]*q[3]), 2*(q[1]*q[3] + q[0]*q[2])],\n",
        "                     [2*(q[1]*q[2] + q[0]*q[3]), q[0]**2 - q[1]**2 + q[2]**2 - q[3]**2, 2*(q[2]*q[3] - q[0]*q[1])],\n",
        "                     [2*(q[1]*q[3] - q[0]*q[2]), 2*(q[2]*q[3] + q[0]*q[1]), q[0]**2 - q[1]**2 - q[2]**2 + q[3]**2]])\n",
        "\n",
        "def quaternion_conjugate(q):\n",
        "    return q*np.array([1, -1, -1, -1])\n",
        "\n",
        "def rotation_to_quaternion(R):\n",
        "    tr = R[0, 0] + R[1, 1] + R[2, 2]\n",
        "    return np.array([0.5 * np.sqrt(1 + tr),\n",
        "            np.copysign(0.5 * np.sqrt(1 + R[0,0] - R[1,1] - R[2,2]), R[2, 1] - R[1, 2]),\n",
        "            np.copysign(0.5 * np.sqrt(1 - R[0,0] + R[1,1] - R[2,2]), R[0, 2] - R[2, 0]),\n",
        "            np.copysign(0.5 * np.sqrt(1 - R[0,0] - R[1,1] + R[2,2]), R[1, 0] - R[0, 1])])"
      ],
      "metadata": {
        "id": "TrzPd_Eld-BX"
      },
      "execution_count": 17,
      "outputs": []
    },
    {
      "cell_type": "code",
      "source": [
        "rot_mat = M\n",
        "print(\"Original Matrix: \\n\", rot_mat)"
      ],
      "metadata": {
        "colab": {
          "base_uri": "https://localhost:8080/"
        },
        "id": "KAmBd3YPeNkI",
        "outputId": "db50b9d1-4afe-4c07-ca64-280d98e1c4c1"
      },
      "execution_count": 18,
      "outputs": [
        {
          "output_type": "stream",
          "name": "stdout",
          "text": [
            "Original Matrix: \n",
            " [[ 0.262 -0.197  0.945]\n",
            " [ 0.22   0.965  0.14 ]\n",
            " [-0.94   0.171  0.296]]\n"
          ]
        }
      ]
    },
    {
      "cell_type": "code",
      "source": [
        "## Convert Rotation Matrix to Quaternion\n",
        "quaternion = rotation_to_quaternion(rot_mat)\n",
        "print(f\"Quaternion from matrix: {quaternion}\")"
      ],
      "metadata": {
        "colab": {
          "base_uri": "https://localhost:8080/"
        },
        "id": "8dG7Gu8neP6e",
        "outputId": "cb2e7da9-7744-460d-96ad-141dd55852b8"
      },
      "execution_count": 19,
      "outputs": [
        {
          "output_type": "stream",
          "name": "stdout",
          "text": [
            "Quaternion from matrix: [0.794 0.01  0.593 0.131]\n"
          ]
        }
      ]
    },
    {
      "cell_type": "code",
      "source": [
        "## Convert Quaternion to Rotation Matrix\n",
        "rotation_matrix = quaternion_to_rotation(quaternion)\n",
        "print(\"Rotation Matrix from Quaternion: \\n\", np.around(rotation_matrix, decimals=6))"
      ],
      "metadata": {
        "colab": {
          "base_uri": "https://localhost:8080/"
        },
        "id": "BK-N3e4oeSBo",
        "outputId": "110f3512-cc73-4796-9c08-426b245ae319"
      },
      "execution_count": 20,
      "outputs": [
        {
          "output_type": "stream",
          "name": "stdout",
          "text": [
            "Rotation Matrix from Quaternion: \n",
            " [[ 0.262 -0.197  0.945]\n",
            " [ 0.22   0.965  0.14 ]\n",
            " [-0.94   0.171  0.296]]\n"
          ]
        }
      ]
    },
    {
      "cell_type": "code",
      "source": [
        "## Verification for Quaternion from Rotation Matrix\n",
        "r = Rotation.from_matrix(rot_mat)\n",
        "scipy_quat = r.as_quat()[[-1, 0, 1, 2]]\n",
        "print(\"Scipy Result: \", scipy_quat)"
      ],
      "metadata": {
        "colab": {
          "base_uri": "https://localhost:8080/"
        },
        "id": "H4SmbCT6eU5A",
        "outputId": "e1675dd7-55e7-4d02-9964-710130cacf59"
      },
      "execution_count": 21,
      "outputs": [
        {
          "output_type": "stream",
          "name": "stdout",
          "text": [
            "Scipy Result:  [0.794 0.01  0.593 0.131]\n"
          ]
        }
      ]
    },
    {
      "cell_type": "code",
      "source": [
        "## Verification for Quaternion to Rotation Matrix\n",
        "r = Rotation.from_quat(scipy_quat[[1, 2, 3, 0]])\n",
        "print(\"Scipy Result: \\n\", np.around(r.as_matrix(), decimals=6))"
      ],
      "metadata": {
        "colab": {
          "base_uri": "https://localhost:8080/"
        },
        "id": "6rooFRKheXDQ",
        "outputId": "9b08db82-34b6-4037-f60d-f3e6d4cd0aef"
      },
      "execution_count": 22,
      "outputs": [
        {
          "output_type": "stream",
          "name": "stdout",
          "text": [
            "Scipy Result: \n",
            " [[ 0.262 -0.197  0.945]\n",
            " [ 0.22   0.965  0.14 ]\n",
            " [-0.94   0.171  0.296]]\n"
          ]
        }
      ]
    },
    {
      "cell_type": "markdown",
      "source": [
        "2.b.3 Perform matrix multiplication of two rotation matrices and perform the same transformation in the quaternion space"
      ],
      "metadata": {
        "id": "dOfqo7fyeZvg"
      }
    },
    {
      "cell_type": "code",
      "source": [
        "def multiply_quaternions(a, b):\n",
        "    O = np.outer(a, b)\n",
        "    return np.array([O[0, 0] - O[1, 1] - O[2, 2] - O[3, 3],\n",
        "                     O[0, 1] + O[1, 0] + O[2, 3] - O[3, 2],\n",
        "                     O[0, 2] + O[2, 0] - O[1, 3] + O[3, 1],\n",
        "                     O[0, 3] + O[3, 0] + O[1, 2] - O[2, 1]])\n",
        "\n",
        "def normalize(x):\n",
        "    norm = np.linalg.norm(x, 2)\n",
        "    x = x / norm\n",
        "    return x"
      ],
      "metadata": {
        "id": "iW_A10cHeZK4"
      },
      "execution_count": 23,
      "outputs": []
    },
    {
      "cell_type": "code",
      "source": [
        "R_MN = M @ N\n",
        "print(\"Matrix Multiplication:\\n\", np.around(R_MN, decimals=4))"
      ],
      "metadata": {
        "colab": {
          "base_uri": "https://localhost:8080/"
        },
        "id": "iwX1bQUCeeLg",
        "outputId": "5e286d34-9850-453f-b8b8-78b943d744f0"
      },
      "execution_count": 24,
      "outputs": [
        {
          "output_type": "stream",
          "name": "stdout",
          "text": [
            "Matrix Multiplication:\n",
            " [[-0.945 -0.239  0.224]\n",
            " [-0.14   0.913  0.384]\n",
            " [-0.296  0.332 -0.896]]\n"
          ]
        }
      ]
    },
    {
      "cell_type": "code",
      "source": [
        "q_M = rotation_to_quaternion(M)\n",
        "print(\"Qm:\\n\", q_M)\n",
        "\n",
        "q_N = rotation_to_quaternion(N)\n",
        "print(\"Qn:\\n\", q_N)"
      ],
      "metadata": {
        "colab": {
          "base_uri": "https://localhost:8080/"
        },
        "id": "zQbtZPbkegCA",
        "outputId": "84c1c6b6-e757-4e62-a81d-68894f3860e0"
      },
      "execution_count": 25,
      "outputs": [
        {
          "output_type": "stream",
          "name": "stdout",
          "text": [
            "Qm:\n",
            " [0.794 0.01  0.593 0.131]\n",
            "Qn:\n",
            " [ 0.704 -0.062  0.704  0.062]\n"
          ]
        }
      ]
    },
    {
      "cell_type": "code",
      "source": [
        "q_MN = np.around(multiply_quaternions(q_M, q_N), decimals=5)\n",
        "print(\"Qm x Qn:\\n\", q_MN)"
      ],
      "metadata": {
        "colab": {
          "base_uri": "https://localhost:8080/"
        },
        "id": "hLji2AE8eiDC",
        "outputId": "03027695-3d00-4e4d-9854-a7e847be795a"
      },
      "execution_count": 26,
      "outputs": [
        {
          "output_type": "stream",
          "name": "stdout",
          "text": [
            "Qm x Qn:\n",
            " [ 0.134 -0.098  0.969  0.185]\n"
          ]
        }
      ]
    },
    {
      "cell_type": "code",
      "source": [
        "rotation_matrix = quaternion_to_rotation(q_MN)\n",
        "print(\"Rot(Qm x Qn)\\n\", np.around(rotation_matrix, decimals=5))\n",
        "\n",
        "print(\"Rot(Qm x Qn) is same as Original Rotation Matrix Multiplication \")"
      ],
      "metadata": {
        "colab": {
          "base_uri": "https://localhost:8080/"
        },
        "id": "nWBnKzXvekZj",
        "outputId": "7de4357c-a04f-455f-9763-5e30a601ce9f"
      },
      "execution_count": 27,
      "outputs": [
        {
          "output_type": "stream",
          "name": "stdout",
          "text": [
            "Rot(Qm x Qn)\n",
            " [[-0.945 -0.239  0.224]\n",
            " [-0.14   0.913  0.384]\n",
            " [-0.296  0.332 -0.896]]\n",
            "Rot(Qm x Qn) is same as Original Rotation Matrix Multiplication \n"
          ]
        }
      ]
    },
    {
      "cell_type": "code",
      "source": [
        "## Verification\n",
        "r = Rotation.from_matrix(R_MN)\n",
        "scipy_quat = r.as_quat()[[-1, 0, 1, 2]]\n",
        "print(\"Scipy Result, Rot => Quat: \", scipy_quat)\n",
        "print(\"Result is same as Qm x Qn\")"
      ],
      "metadata": {
        "colab": {
          "base_uri": "https://localhost:8080/"
        },
        "id": "BfXDxne_emap",
        "outputId": "c0630944-6340-4103-ba2a-79fdb5ac3061"
      },
      "execution_count": 28,
      "outputs": [
        {
          "output_type": "stream",
          "name": "stdout",
          "text": [
            "Scipy Result, Rot => Quat:  [ 0.134 -0.098  0.969  0.185]\n",
            "Result is same as Qm x Qn\n"
          ]
        }
      ]
    },
    {
      "cell_type": "markdown",
      "source": [
        "2.b.4 Try to interpolate any 3D model between two rotation matrices and visualize"
      ],
      "metadata": {
        "id": "O9YEWunEerNI"
      }
    },
    {
      "cell_type": "code",
      "source": [
        "# Interpolate between Rotation Matrices\n",
        "def interpolate_rotations(R0, R1, steps=5):\n",
        "\n",
        "    q0 = rotation_to_quaternion(R0)\n",
        "    q1 = rotation_to_quaternion(R1)\n",
        "\n",
        "    quaternions = [None] * (steps + 2)\n",
        "    quaternions[0] = q0\n",
        "    quaternions[-1] = q1\n",
        "\n",
        "    dot = np.dot(q0, q1)\n",
        "\n",
        "    if dot < 0.0:\n",
        "        q0 = -q0\n",
        "        dot = -dot\n",
        "\n",
        "    theta_ = np.arccos(dot)\n",
        "    sin_theta_ = np.sin(theta_)\n",
        "\n",
        "    step_size = 1/(steps + 1)\n",
        "\n",
        "    for i in range(1, steps + 1):\n",
        "\n",
        "        amount = i * step_size\n",
        "\n",
        "        theta = theta_ * amount\n",
        "        sin_theta = np.sin(theta)\n",
        "\n",
        "        s0 = np.cos(theta) - dot * sin_theta / sin_theta_\n",
        "        s1 = sin_theta / sin_theta_\n",
        "        qr = s0 * q0 + s1 * q1\n",
        "        qr = normalize(qr)\n",
        "\n",
        "        quaternions[i] = qr\n",
        "\n",
        "    rotations = []\n",
        "    for i in range(1, len(quaternions)):\n",
        "        quat_diff = multiply_quaternions(quaternion_conjugate(quaternions[i - 1]), quaternions[i])\n",
        "        quat_diff = normalize(quat_diff)\n",
        "        R = quaternion_to_rotation(quat_diff)\n",
        "        rotations.append(R)\n",
        "    return rotations"
      ],
      "metadata": {
        "id": "Ui2WC8eLeqtQ"
      },
      "execution_count": 29,
      "outputs": []
    },
    {
      "cell_type": "code",
      "source": [
        "R0 = Rotation.from_euler('x', 90, degrees=True).as_matrix()\n",
        "R1 = Rotation.from_euler('y', 90, degrees=True).as_matrix()\n",
        "\n",
        "rotations = interpolate_rotations(R0, R1)\n",
        "\n",
        "## Verifying whether final matrices are smae\n",
        "R_ = R0\n",
        "for rotation in rotations:\n",
        "    R_ = R_ @ rotation\n",
        "\n",
        "print(R_)\n",
        "print(R1)"
      ],
      "metadata": {
        "colab": {
          "base_uri": "https://localhost:8080/"
        },
        "id": "IqIL_kX7et_5",
        "outputId": "4a854ea5-13cd-49c5-9296-4fe7a45edbc6"
      },
      "execution_count": 30,
      "outputs": [
        {
          "output_type": "stream",
          "name": "stdout",
          "text": [
            "[[ 0.  0.  1.]\n",
            " [ 0.  1. -0.]\n",
            " [-1.  0.  0.]]\n",
            "[[ 0.  0.  1.]\n",
            " [ 0.  1.  0.]\n",
            " [-1.  0.  0.]]\n"
          ]
        }
      ]
    },
    {
      "cell_type": "code",
      "source": [
        "## Animation\n",
        "point_cloud = o3d.io.read_point_cloud('/content/Mobile-Robotics-CS7.503/Assignment1/data/bunny.ply')\n",
        "mesh_frame = o3d.geometry.TriangleMesh.create_coordinate_frame(size=0.03, origin=np.array([0., 0., 0.]))\n",
        "\n",
        "point_cloud.rotate(R=R0)\n",
        "mesh_frame.rotate(R=R0)\n",
        "\n",
        "vis = o3d.visualization.Visualizer()\n",
        "vis.create_window()\n",
        "\n",
        "vis.add_geometry(mesh_frame)\n",
        "vis.add_geometry(point_cloud)\n",
        "\n",
        "for rotation in rotations:\n",
        "    time.sleep(0.9)\n",
        "    point_cloud.rotate(R=rotation)\n",
        "    mesh_frame.rotate(R=rotation)\n",
        "\n",
        "    vis.update_geometry(point_cloud)\n",
        "    vis.update_geometry(mesh_frame)\n",
        "\n",
        "    vis.poll_events()\n",
        "    vis.update_renderer()\n",
        "\n",
        "vis.destroy_window()"
      ],
      "metadata": {
        "colab": {
          "base_uri": "https://localhost:8080/",
          "height": 453
        },
        "id": "cTZ6vbyNewLm",
        "outputId": "b46afa69-ecfd-49ab-a80a-13a3d8fcb6fa"
      },
      "execution_count": 31,
      "outputs": [
        {
          "output_type": "stream",
          "name": "stdout",
          "text": [
            "\u001b[1;33m[Open3D WARNING] GLFW Error: X11: The DISPLAY environment variable is missing\u001b[0;m\n",
            "\u001b[1;33m[Open3D WARNING] Failed to initialize GLFW\u001b[0;m\n",
            "\u001b[1;33m[Open3D WARNING] GLFW Error: The GLFW library is not initialized\u001b[0;m\n",
            "\u001b[1;33m[Open3D WARNING] GLFW Error: The GLFW library is not initialized\u001b[0;m\n",
            "\u001b[1;33m[Open3D WARNING] GLFW Error: The GLFW library is not initialized\u001b[0;m\n",
            "\u001b[1;33m[Open3D WARNING] GLFW Error: The GLFW library is not initialized\u001b[0;m\n",
            "\u001b[1;33m[Open3D WARNING] GLFW Error: The GLFW library is not initialized\u001b[0;m\n",
            "\u001b[1;33m[Open3D WARNING] GLFW Error: The GLFW library is not initialized\u001b[0;m\n",
            "\u001b[1;33m[Open3D WARNING] GLFW Error: The GLFW library is not initialized\u001b[0;m\n",
            "\u001b[1;33m[Open3D WARNING] GLFW Error: The GLFW library is not initialized\u001b[0;m\n",
            "\u001b[1;33m[Open3D WARNING] GLFW Error: The GLFW library is not initialized\u001b[0;m\n",
            "\u001b[1;33m[Open3D WARNING] GLFW Error: The GLFW library is not initialized\u001b[0;m\n"
          ]
        },
        {
          "output_type": "error",
          "ename": "KeyboardInterrupt",
          "evalue": "ignored",
          "traceback": [
            "\u001b[0;31m---------------------------------------------------------------------------\u001b[0m",
            "\u001b[0;31mKeyboardInterrupt\u001b[0m                         Traceback (most recent call last)",
            "\u001b[0;32m<ipython-input-31-1f4746c2978b>\u001b[0m in \u001b[0;36m<cell line: 14>\u001b[0;34m()\u001b[0m\n\u001b[1;32m     13\u001b[0m \u001b[0;34m\u001b[0m\u001b[0m\n\u001b[1;32m     14\u001b[0m \u001b[0;32mfor\u001b[0m \u001b[0mrotation\u001b[0m \u001b[0;32min\u001b[0m \u001b[0mrotations\u001b[0m\u001b[0;34m:\u001b[0m\u001b[0;34m\u001b[0m\u001b[0;34m\u001b[0m\u001b[0m\n\u001b[0;32m---> 15\u001b[0;31m     \u001b[0mtime\u001b[0m\u001b[0;34m.\u001b[0m\u001b[0msleep\u001b[0m\u001b[0;34m(\u001b[0m\u001b[0;36m0.9\u001b[0m\u001b[0;34m)\u001b[0m\u001b[0;34m\u001b[0m\u001b[0;34m\u001b[0m\u001b[0m\n\u001b[0m\u001b[1;32m     16\u001b[0m     \u001b[0mpoint_cloud\u001b[0m\u001b[0;34m.\u001b[0m\u001b[0mrotate\u001b[0m\u001b[0;34m(\u001b[0m\u001b[0mR\u001b[0m\u001b[0;34m=\u001b[0m\u001b[0mrotation\u001b[0m\u001b[0;34m)\u001b[0m\u001b[0;34m\u001b[0m\u001b[0;34m\u001b[0m\u001b[0m\n\u001b[1;32m     17\u001b[0m     \u001b[0mmesh_frame\u001b[0m\u001b[0;34m.\u001b[0m\u001b[0mrotate\u001b[0m\u001b[0;34m(\u001b[0m\u001b[0mR\u001b[0m\u001b[0;34m=\u001b[0m\u001b[0mrotation\u001b[0m\u001b[0;34m)\u001b[0m\u001b[0;34m\u001b[0m\u001b[0;34m\u001b[0m\u001b[0m\n",
            "\u001b[0;31mKeyboardInterrupt\u001b[0m: "
          ]
        }
      ]
    },
    {
      "cell_type": "markdown",
      "source": [
        "## Verification\n",
        "point_cloud = o3d.io.read_point_cloud('/content/Mobile-Robotics-CS7.503/Assignment1/data/bunny.ply')\n",
        "point_cloud.paint_uniform_color([1, 0.5, 0.])\n",
        "\n",
        "mesh_frame = o3d.geometry.TriangleMesh.create_coordinate_frame(size=0.03, origin=np.array([0., 0., 0.]))\n",
        "\n",
        "o3d.visualization.draw([point_cloud, mesh_frame])\n",
        "\n",
        "point_cloud.rotate(R=R0)\n",
        "mesh_frame.rotate(R=R0)\n",
        "o3d.visualization.draw([point_cloud, mesh_frame])\n",
        "\n",
        "point_cloud.rotate(R=R1)\n",
        "mesh_frame.rotate(R=R1)\n",
        "o3d.visualization.draw([point_cloud, mesh_frame])"
      ],
      "metadata": {
        "id": "axHAvy54eyo3"
      }
    },
    {
      "cell_type": "markdown",
      "source": [
        "**c) Exponential maps (Bonus)**\n",
        "\n",
        "2.c.1 Idea behind exponential map representation of rotation matrices\n",
        "\n",
        "2.c.2 Perform matrix exponentiation and obtain the rotation matrix to rotate a vector 𝑃 around 𝜔 for 𝜃 seconds"
      ],
      "metadata": {
        "id": "5ctO-d-5e4qX"
      }
    },
    {
      "cell_type": "code",
      "source": [
        "def get_exponential_rotation(w, theta):\n",
        "    w_mag = np.linalg.norm(w, 2)\n",
        "\n",
        "    ## Skey symmetric Matrix\n",
        "    w_hat = np.matrix([[0, -w[2], w[1]],\n",
        "                       [w[2], 0, -w[0]],\n",
        "                       [-w[1], w[0], 0]])\n",
        "\n",
        "    ## Using Rodrigues Formula\n",
        "    rot_mat = np.eye(3) + (np.sin(w_mag*theta)/w_mag)*w_hat + ((1 - np.cos(w_mag*theta))/w_mag**2)*w_hat*w_hat\n",
        "    return rot_mat"
      ],
      "metadata": {
        "id": "NYNIdMFGe05W"
      },
      "execution_count": null,
      "outputs": []
    },
    {
      "cell_type": "code",
      "source": [
        "w = np.array([2, 1, 15])\n",
        "theta = 4.1364\n",
        "\n",
        "exp_rot = get_exponential_rotation(w, theta)\n",
        "print(exp_rot)"
      ],
      "metadata": {
        "id": "7b6j-Ps_fEfh"
      },
      "execution_count": null,
      "outputs": []
    },
    {
      "cell_type": "code",
      "source": [
        "## Verification\n",
        "exp_rot_ = Rotation.from_rotvec(w*theta).as_matrix()\n",
        "print(exp_rot_)"
      ],
      "metadata": {
        "id": "wXRu5Oq4fGpa"
      },
      "execution_count": null,
      "outputs": []
    },
    {
      "cell_type": "markdown",
      "source": [
        "2.c.3 Compute the logarithmic map (SO(3) to so(3)) of the rotation matrix to obtain the rotation vector and the angle of rotation"
      ],
      "metadata": {
        "id": "TlqU_4ZTfKqs"
      }
    },
    {
      "cell_type": "code",
      "source": [
        "def get_logarithmic_map(R):\n",
        "    ## R = I + sin(t)K + ((1 - cos(t))K^2\n",
        "    ## K is skew_symmetric => trace(K) = 0\n",
        "\n",
        "    tr = np.trace(R)\n",
        "\n",
        "    t = np.arccos((tr - 1)/2)\n",
        "    K = (R - R.T)/2*np.sin(t)\n",
        "\n",
        "    K_hat = np.array([K[2, 1], K[0, 2], K[1, 0]])\n",
        "\n",
        "    return K_hat, t"
      ],
      "metadata": {
        "id": "aGMB1H6afIeJ"
      },
      "execution_count": null,
      "outputs": []
    },
    {
      "cell_type": "code",
      "source": [
        "R = np.matrix([[0.1, -0.9487, 0.3],\n",
        "               [0.9487, 0., -0.3162],\n",
        "               [0.3, 0.3162, 0.9]])\n",
        "\n",
        "w, t = get_logarithmic_map(R)\n",
        "print(f\"Rotation vector: {w}, Rotation angle: {t}\")"
      ],
      "metadata": {
        "id": "vEqySKxsfNK-"
      },
      "execution_count": null,
      "outputs": []
    },
    {
      "cell_type": "code",
      "source": [
        "## Verification\n",
        "w_ = Rotation.from_matrix(R).as_rotvec()\n",
        "print(\"Verify Rotation Angle: \", np.linalg.norm(w_))\n",
        "\n",
        "w_ = normalize(w_)\n",
        "print(\"Verify Rotation vector: \", w_)"
      ],
      "metadata": {
        "id": "jzDJMYKkfOwx"
      },
      "execution_count": null,
      "outputs": []
    },
    {
      "cell_type": "markdown",
      "source": [
        "3. Data representations\n",
        "a) Octomaps\n",
        "Why is an Octomap memory efficient?\n",
        "When do we update an Octomap and why?\n",
        "When would you likely use an octomap instead of a point cloud?\n",
        "3.a.1 Why is an Octomap memory efficient?\n",
        "\n",
        "Octomap is based on heirarchical data structure called octree. In Octree, each node represents a 3D cubic volume called voxel. Octomaps discretize the 3D space into voxels, which can be further divided depending on the occupancy of space. Specifically, for free and fully occupied spaces sub-division is not required and for partially occupied space, voxels can be sub-divided until minimum voxel size is reached. This type of heirarchical 3D mapping allow Octomap to be memory efficient for storing data. Additionally, data access complexity is also reduced owing to tree-like hierarchy.\n",
        "\n",
        "3.a.2 When do we update an Octomap and why?\n",
        "\n",
        "Octomap is updated when subsequent observations measure a different state of voxel than that measured by previous observations. Updates are done to account for the dynamic changes in the 3D space.\n",
        "\n",
        "3.a.3 When would you likely use an octomap instead of a point cloud?\n",
        "\n",
        "For navigation tasks Octomap is more suitable than a point cloud. Point Clouds store large amount of measurement points and do not differentiate between free and unmapped areas. Further, the motion of vehicle introduces noise that can result in inaccurate mapping of 3D environment. Octomaps don't suffer from these issues, as they model free space explicitly and probabilistic mapping allow them to account for uncertainity introduced by noise.\n",
        "\n",
        "b) Signed Distance Functions\n",
        "How do we determine object surfaces using SDF?\n",
        "How do we aggregate views from multiple cameras? (just a general overview is fine)\n",
        "Which preserves details better? Voxels or SDF? Why?\n",
        "What’s an advantage of SDF over a point cloud?\n",
        "3.b.1 How do we determine object surfaces using SDF?\n",
        "\n",
        "Signed distance functions are used to calculate the distance of a point from surface of an object and sign is used for determining whether the point is inside the surface or outside. A ray is cast from a source point towards the object, SDF is evaluated for points (voxels) intersecting the ray. Surface can be approximated by interpolating bewteen voxels having opposite signs for SDF value.\n",
        "\n",
        "3.b.2 How do we aggregate views from multiple cameras?\n",
        "\n",
        "Voxel values are updated with weighted average of SDF values for multiple camera views. Weight is directly proportional to the number of measurements for voxel and represents the confidence in the measurement.\n",
        "\n",
        "3.b.3 Which preserves details better? Voxels or SDF? Why?\n",
        "\n",
        "SDF preserve details better because they are build on top of voxels. They contain all advantages of voxels, additionally each voxel in SDF also contains the distance to the nearest obstacle and whether the voxel is inside the surface or outside it, making them readily amenable for planning task.\n",
        "\n",
        "3.b.4 What’s an advantage of SDF over a point cloud?\n",
        "\n",
        "Point clouds are not suitable for describing surfaces and don't explicitly contain information about the nearest obstace for each point cloud. SDF on the other hand can be readily used to describe surface by it's implicit representation. Additionally, SDF encodes the distance of point from the surface and whether it's inside or outside. Finally, the surfaces given by SDF are very smooth compared to point cloud."
      ],
      "metadata": {
        "id": "gC20i4cMfU5P"
      }
    },
    {
      "cell_type": "code",
      "source": [],
      "metadata": {
        "id": "H7TWZ4vbi3ow"
      },
      "execution_count": null,
      "outputs": []
    }
  ]
}